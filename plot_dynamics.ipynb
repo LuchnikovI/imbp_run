{
 "cells": [
  {
   "cell_type": "code",
   "execution_count": null,
   "metadata": {},
   "outputs": [],
   "source": [
    "import os\n",
    "import numpy as np\n",
    "import matplotlib.pyplot as plt\n",
    "\n",
    "script_dir = os.getcwd()\n",
    "path_to_experiment = f\"{script_dir}/experiments/output/2024-12-14T12:56:19.853\"\n",
    "\n",
    "imbp_density_matrices = np.load(f\"{path_to_experiment}/imbp_density_matrices.npy\")\n",
    "sv_density_matrices = np.load(f\"{path_to_experiment}/sv_density_matrices.npy\")\n",
    "\n",
    "plt.plot(imbp_density_matrices[:, 0, 0] - imbp_density_matrices[:, 1, 1])\n",
    "plt.plot(sv_density_matrices[:, 0, 0] - sv_density_matrices[:, 1, 1])"
   ]
  }
 ],
 "metadata": {
  "kernelspec": {
   "display_name": ".venv",
   "language": "python",
   "name": "python3"
  },
  "language_info": {
   "codemirror_mode": {
    "name": "ipython",
    "version": 3
   },
   "file_extension": ".py",
   "mimetype": "text/x-python",
   "name": "python",
   "nbconvert_exporter": "python",
   "pygments_lexer": "ipython3",
   "version": "3.12.3"
  }
 },
 "nbformat": 4,
 "nbformat_minor": 2
}
